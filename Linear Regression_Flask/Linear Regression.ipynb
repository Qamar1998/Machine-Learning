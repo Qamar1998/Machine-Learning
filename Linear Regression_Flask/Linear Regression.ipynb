{
 "cells": [
  {
   "cell_type": "code",
   "execution_count": 42,
   "metadata": {},
   "outputs": [],
   "source": [
    "import numpy as np\n",
    "import pandas as pd\n",
    "import matplotlib.pyplot as plt"
   ]
  },
  {
   "cell_type": "code",
   "execution_count": 43,
   "metadata": {},
   "outputs": [
    {
     "data": {
      "image/png": "[encoded data removed]",
      "text/plain": [
       "<Figure size 432x288 with 1 Axes>"
      ]
     },
     "metadata": {
      "needs_background": "light"
     },
     "output_type": "display_data"
    }
   ],
   "source": [
    "# Preprocessing Input data\n",
    "data = pd.read_csv('data.csv')\n",
    "X = data.iloc[:, 0]\n",
    "y = data.iloc[:, 1]\n",
    "plt.scatter(X, y)\n",
    "plt.show()"
   ]
  },
  {
   "cell_type": "code",
   "execution_count": 44,
   "metadata": {},
   "outputs": [],
   "source": [
    "# Building the model\n",
    "Theta0, Theta0_new, Theta1, Theta1_new = 0, 0, 0, 0\n",
    "Num_of_iter = 0  # The number of iterations to perform gradient descent\n",
    "n = float(len(X))  # Number of elements in X\n",
    "L = 0.0001  # The learning Rate"
   ]
  },
  {
   "cell_type": "code",
   "execution_count": 45,
   "metadata": {},
   "outputs": [
    {
     "name": "stdout",
     "output_type": "stream",
     "text": [
      "Theta_0 value = 0.21140121932796768 Theta_1 value = 3.840985056696771 Number of itteration = 128\n"
     ]
    }
   ],
   "source": [
    "# Building the model\n",
    "while(True):\n",
    "    y_pred = Theta0_new + Theta1_new * X\n",
    "    Theta0 = Theta0_new\n",
    "    Theta0_new = Theta0_new - L * (1/n) * sum(y_pred - y)\n",
    "    Theta1 = Theta1_new\n",
    "    Theta1_new = Theta1_new - L * (1/n) * sum(X * (y_pred - y))\n",
    "    Num_of_iter = Num_of_iter + 1\n",
    "    if(Theta0_new - Theta0 <= 0.001 and Theta1_new - Theta1 <= 0.001):\n",
    "        break\n",
    "\n",
    "print(\"Theta_0 value = \" + str(Theta0_new), \n",
    "      \"Theta_1 value = \" + str(Theta1_new),\n",
    "      \"Number of itteration = \" + str(Num_of_iter))"
   ]
  },
  {
   "cell_type": "code",
   "execution_count": 46,
   "metadata": {},
   "outputs": [
    {
     "data": {
      "image/png": "[encoded data removed]",
      "text/plain": [
       "<Figure size 432x288 with 1 Axes>"
      ]
     },
     "metadata": {
      "needs_background": "light"
     },
     "output_type": "display_data"
    }
   ],
   "source": [
    "# Making predictions\n",
    "Y_pred = Theta1 * X + Theta0\n",
    "plt.scatter(X, y)\n",
    "plt.plot([min(X), max(X)], [min(Y_pred), max(Y_pred)], color='red')  # regression line\n",
    "plt.show()"
   ]
  },
  {
   "cell_type": "markdown",
   "metadata": {},
   "source": [
    "<h5> Below table illustrate NUMBER of iteration theta 0 and theta 1 need to converge when alpha equals specific value</h5>\n",
    "<h5>After testing several values, we found that 0.0001 is the value that needs the least number of iter</h5>"
   ]
  },
  {
   "cell_type": "markdown",
   "metadata": {},
   "source": [
    "<!DOCTYPE html>\n",
    "<html>\n",
    "<head>\n",
    "<style>\n",
    "table {\n",
    "  font-family: arial, sans-serif;\n",
    "  border-collapse: collapse;\n",
    "  width: 100%;\n",
    "}\n",
    "\n",
    "td, th {\n",
    "  border: 1px solid #dddddd;\n",
    "  text-align: left;\n",
    "  padding: 8px;\n",
    "}\n",
    "\n",
    "tr:nth-child(even) {\n",
    "  background-color: #dddddd;\n",
    "}\n",
    "</style>\n",
    "</head>\n",
    "<body>\n",
    "\n",
    "\n",
    "<table>\n",
    "  <tr>\n",
    "    <th>Number of iter theta need to converge </th>\n",
    "    <th>Alpha value</th>\n",
    "    <th>Theta0</th>\n",
    "    <th>Theta1</th>\n",
    "  </tr>\n",
    "    \n",
    "  <tr>\n",
    "    <td>349</td>\n",
    "    <td>0.00001</td>\n",
    "    <td>0.11608760082030962</td>\n",
    "    <td>3.7503566585447388</td>\n",
    "  </tr>\n",
    "    \n",
    "  <tr>\n",
    "    <td>128</td>\n",
    "    <td>0.0001</td>\n",
    "    <td>0.21140121932796768</td>\n",
    "    <td>3.840985056696771</td>\n",
    "  </tr>\n",
    "    \n",
    "  <tr>\n",
    "    <td>4569</td>\n",
    "    <td>0.001</td>\n",
    "    <td>18.01785270101906 </td>\n",
    "    <td>3.4565037553145004 </td>\n",
    "  </tr>\n",
    " \n",
    "    \n",
    "  <tr>\n",
    "    <td>7288</td>\n",
    "    <td>0.0003</td>\n",
    "    <td>13.400638968396036</td>\n",
    "    <td>3.556200349380656</td>\n",
    "  </tr>\n",
    "    \n",
    "</table>\n",
    "\n",
    "</body>\n",
    "</html>\n"
   ]
  },
  {
   "cell_type": "code",
   "execution_count": 49,
   "metadata": {},
   "outputs": [
    {
     "data": {
      "image/png": "[encoded data removed]",
      "text/plain": [
       "<Figure size 432x288 with 1 Axes>"
      ]
     },
     "metadata": {
      "needs_background": "light"
     },
     "output_type": "display_data"
    }
   ],
   "source": [
    "Learning_Rate = [0.00001, 0.0001, 0.001, 0.0003]\n",
    "Num_of_iter = [349, 128,4569, 7288]\n",
    "plt.scatter(Learning_Rate, Num_of_iter)\n",
    "plt.xlabel('Learning_Rate')\n",
    "plt.ylabel('Num_of_iter')\n",
    "plt.show()"
   ]
  },
  {
   "cell_type": "code",
   "execution_count": 11,
   "metadata": {},
   "outputs": [],
   "source": [
    "# Writing to file the theta values\n",
    "parameters_file = open(\"parameters.txt\",\"w+\")\n",
    "parameters = [ \"Theta0 value = 0.21140121932796768 \\n\",  \"Theta1 value = 3.840985056696771 \\n\"]\n",
    "parameters_file.writelines(parameters)\n",
    "parameters_file.close()"
   ]
  },
  {
   "cell_type": "code",
   "execution_count": null,
   "metadata": {},
   "outputs": [],
   "source": []
  }
 ],
 "metadata": {
  "kernelspec": {
   "display_name": "Python 3",
   "language": "python",
   "name": "python3"
  },
  "language_info": {
   "codemirror_mode": {
    "name": "ipython",
    "version": 3
   },
   "file_extension": ".py",
   "mimetype": "text/x-python",
   "name": "python",
   "nbconvert_exporter": "python",
   "pygments_lexer": "ipython3",
   "version": "3.8.2"
  }
 },
 "nbformat": 4,
 "nbformat_minor": 4
}
